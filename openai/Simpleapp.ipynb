{
 "cells": [
  {
   "cell_type": "markdown",
   "metadata": {},
   "source": [
    "#### Simple Gen AI APP Using Langchain"
   ]
  },
  {
   "cell_type": "code",
   "execution_count": 35,
   "metadata": {},
   "outputs": [],
   "source": [
    "import os\n",
    "from dotenv import load_dotenv\n",
    "load_dotenv()\n",
    "\n",
    "os.environ['OPENAI_API_KEY']=os.getenv(\"OPENAI_API_KEY\")\n",
    "# Lang Smith Tracking\n",
    "os.environ[\"LANGCHAIN_API_KEY\"]=os.getenv(\"LANGCHAIN_API_KEY\")\n",
    "os.environ[\"LANGCHAIN_TRACING_V2\"]=\"true\"\n",
    "os.environ[\"LANGCHAIN_PROJECT\"]=os.getenv(\"LANGCHAIN_PROJECT\")"
   ]
  },
  {
   "cell_type": "code",
   "execution_count": 36,
   "metadata": {},
   "outputs": [],
   "source": [
    "# Data Ingestion - From the website we need to scrape the data\n",
    "from langchain_community.document_loaders import WebBaseLoader"
   ]
  },
  {
   "cell_type": "code",
   "execution_count": 37,
   "metadata": {},
   "outputs": [
    {
     "data": {
      "text/plain": [
       "<langchain_community.document_loaders.web_base.WebBaseLoader at 0x11e8cb6a0>"
      ]
     },
     "execution_count": 37,
     "metadata": {},
     "output_type": "execute_result"
    }
   ],
   "source": [
    "loader = WebBaseLoader(\"https://docs.smith.langchain.com/tutorials/Administrators/manage_spend\")\n",
    "loader"
   ]
  },
  {
   "cell_type": "code",
   "execution_count": 38,
   "metadata": {},
   "outputs": [
    {
     "data": {
      "text/plain": [
       "[Document(metadata={'source': 'https://docs.smith.langchain.com/tutorials/Administrators/manage_spend', 'title': '🦜️🛠️ LangSmith', 'language': 'en'}, page_content='\\n\\n\\n\\n\\n🦜️🛠️ LangSmith\\n\\n\\n\\n\\n\\n\\n\\n\\nSkip to main contentLangSmith docs have moved! Find the LangSmith docs at the new LangChain Docs site.API ReferenceRESTPythonJS/TSSearchRegionUSEUGo to AppPage Not FoundWe could not find what you were looking for.Head back to our main docs page or use the search bar to find the page you need.CommunityLangChain ForumTwitterGitHubDocs CodeLangSmith SDKPythonJS/TSMoreHomepageBlogLangChain Python DocsLangChain JS/TS DocsCopyright © 2025 LangChain, Inc.\\n\\n')]"
      ]
     },
     "execution_count": 38,
     "metadata": {},
     "output_type": "execute_result"
    }
   ],
   "source": [
    "docs = loader.load()\n",
    "docs"
   ]
  },
  {
   "cell_type": "code",
   "execution_count": 39,
   "metadata": {},
   "outputs": [],
   "source": [
    "# Load Data --> Docs --> Divide our Documents into chunks documents --> text --> vectors --> Vector Embeddings- --> Vector Store DB\n",
    "from langchain_text_splitters import RecursiveCharacterTextSplitter\n",
    "\n",
    "text_splitter = RecursiveCharacterTextSplitter(chunk_size=1000, chunk_overlap=200)\n",
    "documents = text_splitter.split_documents(docs)"
   ]
  },
  {
   "cell_type": "code",
   "execution_count": 40,
   "metadata": {},
   "outputs": [
    {
     "data": {
      "text/plain": [
       "[Document(metadata={'source': 'https://docs.smith.langchain.com/tutorials/Administrators/manage_spend', 'title': '🦜️🛠️ LangSmith', 'language': 'en'}, page_content='🦜️🛠️ LangSmith\\n\\n\\n\\n\\n\\n\\n\\n\\nSkip to main contentLangSmith docs have moved! Find the LangSmith docs at the new LangChain Docs site.API ReferenceRESTPythonJS/TSSearchRegionUSEUGo to AppPage Not FoundWe could not find what you were looking for.Head back to our main docs page or use the search bar to find the page you need.CommunityLangChain ForumTwitterGitHubDocs CodeLangSmith SDKPythonJS/TSMoreHomepageBlogLangChain Python DocsLangChain JS/TS DocsCopyright © 2025 LangChain, Inc.')]"
      ]
     },
     "execution_count": 40,
     "metadata": {},
     "output_type": "execute_result"
    }
   ],
   "source": [
    "documents"
   ]
  },
  {
   "cell_type": "code",
   "execution_count": 41,
   "metadata": {},
   "outputs": [],
   "source": [
    "from langchain_openai import OpenAIEmbeddings\n",
    "embeddings=OpenAIEmbeddings()"
   ]
  },
  {
   "cell_type": "code",
   "execution_count": 42,
   "metadata": {},
   "outputs": [],
   "source": [
    "from langchain_community.vectorstores import FAISS\n",
    "vectorstoredb = FAISS.from_documents(documents, embeddings)"
   ]
  },
  {
   "cell_type": "code",
   "execution_count": 43,
   "metadata": {},
   "outputs": [
    {
     "data": {
      "text/plain": [
       "<langchain_community.vectorstores.faiss.FAISS at 0x1195e8c40>"
      ]
     },
     "execution_count": 43,
     "metadata": {},
     "output_type": "execute_result"
    }
   ],
   "source": [
    "vectorstoredb"
   ]
  },
  {
   "cell_type": "code",
   "execution_count": 44,
   "metadata": {},
   "outputs": [
    {
     "data": {
      "text/plain": [
       "'🦜️🛠️ LangSmith\\n\\n\\n\\n\\n\\n\\n\\n\\nSkip to main contentLangSmith docs have moved! Find the LangSmith docs at the new LangChain Docs site.API ReferenceRESTPythonJS/TSSearchRegionUSEUGo to AppPage Not FoundWe could not find what you were looking for.Head back to our main docs page or use the search bar to find the page you need.CommunityLangChain ForumTwitterGitHubDocs CodeLangSmith SDKPythonJS/TSMoreHomepageBlogLangChain Python DocsLangChain JS/TS DocsCopyright © 2025 LangChain, Inc.'"
      ]
     },
     "execution_count": 44,
     "metadata": {},
     "output_type": "execute_result"
    }
   ],
   "source": [
    "# Query From a vector store db\n",
    "query = \"LangSmith has two usage limits: total traces and extended\"\n",
    "result = vectorstoredb.similarity_search(query)\n",
    "result[0].page_content"
   ]
  },
  {
   "cell_type": "code",
   "execution_count": 45,
   "metadata": {},
   "outputs": [],
   "source": [
    "from langchain_openai import ChatOpenAI\n",
    "llm = ChatOpenAI(model=\"gpt-4o\")"
   ]
  },
  {
   "cell_type": "code",
   "execution_count": 46,
   "metadata": {},
   "outputs": [
    {
     "data": {
      "text/plain": [
       "RunnableBinding(bound=RunnableBinding(bound=RunnableAssign(mapper={\n",
       "  context: RunnableLambda(format_docs)\n",
       "}), kwargs={}, config={'run_name': 'format_inputs'}, config_factories=[])\n",
       "| ChatPromptTemplate(input_variables=['context'], input_types={}, partial_variables={}, messages=[HumanMessagePromptTemplate(prompt=PromptTemplate(input_variables=['context'], input_types={}, partial_variables={}, template='\\nAnswer the following question based only on the provided context:\\n<context>\\n{context}\\n</context>\\n'), additional_kwargs={})])\n",
       "| ChatOpenAI(client=<openai.resources.chat.completions.completions.Completions object at 0x11e8cb7c0>, async_client=<openai.resources.chat.completions.completions.AsyncCompletions object at 0x11e95f970>, root_client=<openai.OpenAI object at 0x11e8cbcd0>, root_async_client=<openai.AsyncOpenAI object at 0x11e8cbca0>, model_name='gpt-4o', model_kwargs={}, openai_api_key=SecretStr('**********'))\n",
       "| StrOutputParser(), kwargs={}, config={'run_name': 'stuff_documents_chain'}, config_factories=[])"
      ]
     },
     "execution_count": 46,
     "metadata": {},
     "output_type": "execute_result"
    }
   ],
   "source": [
    "# Retrieval Chain, Document chain\n",
    "\n",
    "from langchain.chains.combine_documents import create_stuff_documents_chain\n",
    "from langchain_core.prompts import ChatPromptTemplate\n",
    "\n",
    "prompt = ChatPromptTemplate.from_template(\n",
    "\"\"\"\n",
    "Answer the following question based only on the provided context:\n",
    "<context>\n",
    "{context}\n",
    "</context>\n",
    "\"\"\"\n",
    ")\n",
    "\n",
    "document_chain = create_stuff_documents_chain(llm, prompt)\n",
    "document_chain"
   ]
  },
  {
   "cell_type": "code",
   "execution_count": 47,
   "metadata": {},
   "outputs": [
    {
     "name": "stderr",
     "output_type": "stream",
     "text": [
      "/Users/greatdaveo/CODE_BASE/ML-Course/venv/lib/python3.10/site-packages/langsmith/client.py:290: LangSmithMissingAPIKeyWarning: API key must be provided when using hosted LangSmith API\n",
      "  warnings.warn(\n",
      "Failed to multipart ingest runs: langsmith.utils.LangSmithAuthError: Authentication failed for https://api.smith.langchain.com/runs/multipart. HTTPError('401 Client Error: Unauthorized for url: https://api.smith.langchain.com/runs/multipart', '{\"error\":\"Unauthorized\"}\\n')trace=dadf1ca6-9fc7-456f-8a30-0d7fa4bce7ed,id=dadf1ca6-9fc7-456f-8a30-0d7fa4bce7ed; trace=dadf1ca6-9fc7-456f-8a30-0d7fa4bce7ed,id=7d156d2c-64a8-42ef-896c-30eb48e6547f; trace=dadf1ca6-9fc7-456f-8a30-0d7fa4bce7ed,id=1061bc08-f2b9-4b72-8dae-fe58b9870cc5; trace=dadf1ca6-9fc7-456f-8a30-0d7fa4bce7ed,id=48c219ad-285e-4450-9999-c553b4605dab; trace=dadf1ca6-9fc7-456f-8a30-0d7fa4bce7ed,id=05632605-4c17-4387-a252-7477de2dfc01; trace=dadf1ca6-9fc7-456f-8a30-0d7fa4bce7ed,id=eb158be0-dbe0-4a34-9f53-d6eddeb63534\n"
     ]
    },
    {
     "data": {
      "text/plain": [
       "\"LangSmith's usage limits comprise two elements: total traces and extended traces. These are the two metrics that are tracked on the usage graph.\""
      ]
     },
     "execution_count": 47,
     "metadata": {},
     "output_type": "execute_result"
    }
   ],
   "source": [
    "from langchain_core.documents import Document\n",
    "document_chain.invoke({\n",
    "    \"input\": \"LangSmith has two usage limits: total traces and extended\",\n",
    "    \"context\": [Document(page_content=\"LangSmith has two usage limits: total traces and extended traces. These correspond to the two metrics we've been tracking on our usage graph. \")]\n",
    "})"
   ]
  },
  {
   "cell_type": "markdown",
   "metadata": {},
   "source": [
    "However, we want the documents to first come from the retriever we just set up. That way, we can use the retriever to dynamically select the most relevant documents and pass those in for a given question."
   ]
  },
  {
   "cell_type": "code",
   "execution_count": 48,
   "metadata": {},
   "outputs": [
    {
     "data": {
      "text/plain": [
       "<langchain_community.vectorstores.faiss.FAISS at 0x1195e8c40>"
      ]
     },
     "execution_count": 48,
     "metadata": {},
     "output_type": "execute_result"
    }
   ],
   "source": [
    "### Input ---> Retriever ---> vector store db\n",
    "\n",
    "vectorstoredb"
   ]
  },
  {
   "cell_type": "code",
   "execution_count": 49,
   "metadata": {},
   "outputs": [],
   "source": [
    "retriever = vectorstoredb.as_retriever()\n",
    "from langchain.chains import create_retrieval_chain\n",
    "retrieval_chain = create_retrieval_chain(retriever, document_chain)\n"
   ]
  },
  {
   "cell_type": "code",
   "execution_count": 50,
   "metadata": {},
   "outputs": [
    {
     "data": {
      "text/plain": [
       "RunnableBinding(bound=RunnableAssign(mapper={\n",
       "  context: RunnableBinding(bound=RunnableLambda(lambda x: x['input'])\n",
       "           | VectorStoreRetriever(tags=['FAISS', 'OpenAIEmbeddings'], vectorstore=<langchain_community.vectorstores.faiss.FAISS object at 0x1195e8c40>, search_kwargs={}), kwargs={}, config={'run_name': 'retrieve_documents'}, config_factories=[])\n",
       "})\n",
       "| RunnableAssign(mapper={\n",
       "    answer: RunnableBinding(bound=RunnableBinding(bound=RunnableAssign(mapper={\n",
       "              context: RunnableLambda(format_docs)\n",
       "            }), kwargs={}, config={'run_name': 'format_inputs'}, config_factories=[])\n",
       "            | ChatPromptTemplate(input_variables=['context'], input_types={}, partial_variables={}, messages=[HumanMessagePromptTemplate(prompt=PromptTemplate(input_variables=['context'], input_types={}, partial_variables={}, template='\\nAnswer the following question based only on the provided context:\\n<context>\\n{context}\\n</context>\\n'), additional_kwargs={})])\n",
       "            | ChatOpenAI(client=<openai.resources.chat.completions.completions.Completions object at 0x11e8cb7c0>, async_client=<openai.resources.chat.completions.completions.AsyncCompletions object at 0x11e95f970>, root_client=<openai.OpenAI object at 0x11e8cbcd0>, root_async_client=<openai.AsyncOpenAI object at 0x11e8cbca0>, model_name='gpt-4o', model_kwargs={}, openai_api_key=SecretStr('**********'))\n",
       "            | StrOutputParser(), kwargs={}, config={'run_name': 'stuff_documents_chain'}, config_factories=[])\n",
       "  }), kwargs={}, config={'run_name': 'retrieval_chain'}, config_factories=[])"
      ]
     },
     "execution_count": 50,
     "metadata": {},
     "output_type": "execute_result"
    }
   ],
   "source": [
    "retrieval_chain"
   ]
  },
  {
   "cell_type": "code",
   "execution_count": 51,
   "metadata": {},
   "outputs": [
    {
     "name": "stderr",
     "output_type": "stream",
     "text": [
      "Failed to send compressed multipart ingest: langsmith.utils.LangSmithAuthError: Authentication failed for https://api.smith.langchain.com/runs/multipart. HTTPError('401 Client Error: Unauthorized for url: https://api.smith.langchain.com/runs/multipart', '{\"error\":\"Unauthorized\"}\\n')trace=dadf1ca6-9fc7-456f-8a30-0d7fa4bce7ed,id=eb158be0-dbe0-4a34-9f53-d6eddeb63534; trace=dadf1ca6-9fc7-456f-8a30-0d7fa4bce7ed,id=16714ecf-702a-4cd6-b146-a18226bbfe38; trace=dadf1ca6-9fc7-456f-8a30-0d7fa4bce7ed,id=16714ecf-702a-4cd6-b146-a18226bbfe38; trace=dadf1ca6-9fc7-456f-8a30-0d7fa4bce7ed,id=dadf1ca6-9fc7-456f-8a30-0d7fa4bce7ed; trace=24869061-0c2e-441c-b04a-986af1904a4d,id=24869061-0c2e-441c-b04a-986af1904a4d; trace=24869061-0c2e-441c-b04a-986af1904a4d,id=f4fd916c-2a35-426b-8a69-c2d745441e30; trace=24869061-0c2e-441c-b04a-986af1904a4d,id=408e5043-6484-4523-813c-80d6112879eb; trace=24869061-0c2e-441c-b04a-986af1904a4d,id=53eac48e-a8c8-45c5-84ee-64c62a8b09f0; trace=24869061-0c2e-441c-b04a-986af1904a4d,id=4fd489e4-e798-4587-9484-0c49a6b29b36; trace=24869061-0c2e-441c-b04a-986af1904a4d,id=4fd489e4-e798-4587-9484-0c49a6b29b36; trace=24869061-0c2e-441c-b04a-986af1904a4d,id=07de8b83-f41c-4131-9db7-f7517fa96805; trace=24869061-0c2e-441c-b04a-986af1904a4d,id=07de8b83-f41c-4131-9db7-f7517fa96805; trace=24869061-0c2e-441c-b04a-986af1904a4d,id=53eac48e-a8c8-45c5-84ee-64c62a8b09f0; trace=24869061-0c2e-441c-b04a-986af1904a4d,id=408e5043-6484-4523-813c-80d6112879eb; trace=24869061-0c2e-441c-b04a-986af1904a4d,id=f4fd916c-2a35-426b-8a69-c2d745441e30; trace=24869061-0c2e-441c-b04a-986af1904a4d,id=b0f40528-3268-4100-aa6b-6243606fd1df; trace=24869061-0c2e-441c-b04a-986af1904a4d,id=5f0a530a-3441-440c-bbc5-7cd73ccb821b; trace=24869061-0c2e-441c-b04a-986af1904a4d,id=42b04aa2-3029-40b9-ab9e-f446ef147b9b; trace=24869061-0c2e-441c-b04a-986af1904a4d,id=850616cd-976c-44fb-93dc-c35c23bb7025; trace=24869061-0c2e-441c-b04a-986af1904a4d,id=53bf6904-2ef2-4352-91bd-f998ee5ca57c; trace=24869061-0c2e-441c-b04a-986af1904a4d,id=e02926e0-0358-41ce-b03c-6f3d73902170; trace=24869061-0c2e-441c-b04a-986af1904a4d,id=e02926e0-0358-41ce-b03c-6f3d73902170; trace=24869061-0c2e-441c-b04a-986af1904a4d,id=53bf6904-2ef2-4352-91bd-f998ee5ca57c; trace=24869061-0c2e-441c-b04a-986af1904a4d,id=850616cd-976c-44fb-93dc-c35c23bb7025; trace=24869061-0c2e-441c-b04a-986af1904a4d,id=9dbebbe7-ac88-4fee-be62-18b9018407f1; trace=24869061-0c2e-441c-b04a-986af1904a4d,id=9dbebbe7-ac88-4fee-be62-18b9018407f1; trace=24869061-0c2e-441c-b04a-986af1904a4d,id=41bca69a-77f7-4ecc-a20f-63573f4cd30a\n",
      "Failed to send compressed multipart ingest: langsmith.utils.LangSmithAuthError: Authentication failed for https://api.smith.langchain.com/runs/multipart. HTTPError('401 Client Error: Unauthorized for url: https://api.smith.langchain.com/runs/multipart', '{\"error\":\"Unauthorized\"}\\n')trace=24869061-0c2e-441c-b04a-986af1904a4d,id=41bca69a-77f7-4ecc-a20f-63573f4cd30a; trace=24869061-0c2e-441c-b04a-986af1904a4d,id=9ee06404-a5e5-472f-a6e6-b55f92b74638; trace=24869061-0c2e-441c-b04a-986af1904a4d,id=9ee06404-a5e5-472f-a6e6-b55f92b74638; trace=24869061-0c2e-441c-b04a-986af1904a4d,id=42b04aa2-3029-40b9-ab9e-f446ef147b9b; trace=24869061-0c2e-441c-b04a-986af1904a4d,id=5f0a530a-3441-440c-bbc5-7cd73ccb821b; trace=24869061-0c2e-441c-b04a-986af1904a4d,id=b0f40528-3268-4100-aa6b-6243606fd1df; trace=24869061-0c2e-441c-b04a-986af1904a4d,id=24869061-0c2e-441c-b04a-986af1904a4d\n"
     ]
    },
    {
     "data": {
      "text/plain": [
       "'What is the copyright year of the document provided in the context? \\n\\nCopyright © 2025 LangChain, Inc.'"
      ]
     },
     "execution_count": 51,
     "metadata": {},
     "output_type": "execute_result"
    }
   ],
   "source": [
    "# Get the response form the LLM\n",
    "response = retrieval_chain.invoke({\"input\": \"LangSmith has two usage limits: total traces and extended\"})\n",
    "response['answer']"
   ]
  },
  {
   "cell_type": "code",
   "execution_count": 52,
   "metadata": {},
   "outputs": [
    {
     "data": {
      "text/plain": [
       "{'input': 'LangSmith has two usage limits: total traces and extended',\n",
       " 'context': [Document(id='a93c34d3-5c55-48be-9d30-0a2e5c2d23fc', metadata={'source': 'https://docs.smith.langchain.com/tutorials/Administrators/manage_spend', 'title': '🦜️🛠️ LangSmith', 'language': 'en'}, page_content='🦜️🛠️ LangSmith\\n\\n\\n\\n\\n\\n\\n\\n\\nSkip to main contentLangSmith docs have moved! Find the LangSmith docs at the new LangChain Docs site.API ReferenceRESTPythonJS/TSSearchRegionUSEUGo to AppPage Not FoundWe could not find what you were looking for.Head back to our main docs page or use the search bar to find the page you need.CommunityLangChain ForumTwitterGitHubDocs CodeLangSmith SDKPythonJS/TSMoreHomepageBlogLangChain Python DocsLangChain JS/TS DocsCopyright © 2025 LangChain, Inc.')],\n",
       " 'answer': 'What is the copyright year of the document provided in the context? \\n\\nCopyright © 2025 LangChain, Inc.'}"
      ]
     },
     "execution_count": 52,
     "metadata": {},
     "output_type": "execute_result"
    }
   ],
   "source": [
    "response"
   ]
  },
  {
   "cell_type": "code",
   "execution_count": 53,
   "metadata": {},
   "outputs": [
    {
     "data": {
      "text/plain": [
       "[Document(id='a93c34d3-5c55-48be-9d30-0a2e5c2d23fc', metadata={'source': 'https://docs.smith.langchain.com/tutorials/Administrators/manage_spend', 'title': '🦜️🛠️ LangSmith', 'language': 'en'}, page_content='🦜️🛠️ LangSmith\\n\\n\\n\\n\\n\\n\\n\\n\\nSkip to main contentLangSmith docs have moved! Find the LangSmith docs at the new LangChain Docs site.API ReferenceRESTPythonJS/TSSearchRegionUSEUGo to AppPage Not FoundWe could not find what you were looking for.Head back to our main docs page or use the search bar to find the page you need.CommunityLangChain ForumTwitterGitHubDocs CodeLangSmith SDKPythonJS/TSMoreHomepageBlogLangChain Python DocsLangChain JS/TS DocsCopyright © 2025 LangChain, Inc.')]"
      ]
     },
     "execution_count": 53,
     "metadata": {},
     "output_type": "execute_result"
    }
   ],
   "source": [
    "response['context']"
   ]
  }
 ],
 "metadata": {
  "kernelspec": {
   "display_name": "Python 3",
   "language": "python",
   "name": "python3"
  },
  "language_info": {
   "codemirror_mode": {
    "name": "ipython",
    "version": 3
   },
   "file_extension": ".py",
   "mimetype": "text/x-python",
   "name": "python",
   "nbconvert_exporter": "python",
   "pygments_lexer": "ipython3",
   "version": "3.10.17"
  }
 },
 "nbformat": 4,
 "nbformat_minor": 2
}
